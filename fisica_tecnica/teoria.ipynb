{
 "cells": [
  {
   "cell_type": "code",
   "execution_count": 1,
   "metadata": {},
   "outputs": [],
   "source": [
    "import numpy as np"
   ]
  },
  {
   "cell_type": "markdown",
   "metadata": {},
   "source": [
    "### Suono: \n",
    "Da un punto di vista fisico per suono in un certo punto dello spazio si intende una rapida variazione di pressione ( compressione e rarefazione ) intorno al valore assunto dalla pressione atmosferica in quel punto.\n",
    "\n",
    "### Sorgente sonora:\n",
    "\n",
    "qualsiasi dispositivo, apparecchio ecc. che provochi direttametne o indirettamente (as esempio per percussione) dette variazioni di pressione\n",
    "\n",
    "### Campo sonoro:\n",
    "affinche' il suono si propaghi occorre poi che il mezzo che circonda la sorgente sonora sia dotato di elasticita'. La porzione dello spazio interessata da tali variazioni di pressione e' allora definita campo sonoro\n",
    "\n",
    "Schema di generazione del suono\n",
    "\n",
    "![figura 1.1](./img/figura_1.1.png)"
   ]
  },
  {
   "cell_type": "markdown",
   "metadata": {},
   "source": [
    "### Lunghezza d'onda $\\lambda$ \n",
    "definita come la distanza che intercorre tra due successive compressioni o rarefazioni del suone nel mezzo considerato\n",
    "\n",
    "La situazione del campo sonoro ad un dato instante puo' essere rappresentata mediante il grafico di fig. 1.2 dove in ordinata sono riportate le variazioni della pressione in funzione della distanza prerturbata. \n",
    "con **$\\Delta P_{max}$** si indica l'ampiezza ovvero il valore massimo della variazione di pressione\n",
    "\n",
    "Figura 1.2 Suono sinusoidale: variazione in funzione della dsitanza\n",
    "![figura 1.2](./img/fig1.2.png)\n",
    "\n",
    "### il Periodo T\n",
    "Tempo necessario a compiere un ciclo. ovvero i'intervallo di tempo che passa tra due istanti consecutivi nei quali, nel punto considerato, si ha un massimo o un minimo relativo della pressione\n",
    "\n",
    "Figura 1.3 Suono sinusoidale: variazione in funzione del tempo\n",
    "\n",
    "![figura 1.3](./img/fig.1.3.png)\n",
    "\n",
    "la frequenza **f**  al periodo **T** dalla relazione:\n",
    "\n",
    "$f=\\frac{1}{T}\\quad(s^{-1} \\quad o \\quad Hz)$\n",
    "\n",
    "la relazione che lega la velocita' di propagazione **c** del suono nel mezzo alla lunghezza d'onda $\\lambda$ ed alla frequenza **f** e' la sguente:\n",
    "\n",
    "$ c = \\lambda \\times f = \\lambda \\times \\frac{1}{T} \\quad (m*s^{-1})$\n",
    "\n",
    "$ f = c \\times \\lambda \\quad (Hz \\quad ovvero \\quad s^{-1})$\n",
    "\n",
    "nel nomogramma fig.1.4 e' visualizzato il rapporto che intercorre tra **$\\lambda$** e **f**\n",
    "\n",
    "Fig. 1.4 Nomogramma Lunghezza d'onda - frequenza\n",
    "\n",
    "![lunghezza d'onda - frequenza](./img/fig.1.4.png)"
   ]
  }
 ],
 "metadata": {
  "interpreter": {
   "hash": "50c856fce6749d8d3397cad8e0d3df0cccbb8828396fa56ff85a13de4c33c5de"
  },
  "kernelspec": {
   "display_name": "Python 3.9.10 ('.venv': poetry)",
   "language": "python",
   "name": "python3"
  },
  "language_info": {
   "codemirror_mode": {
    "name": "ipython",
    "version": 3
   },
   "file_extension": ".py",
   "mimetype": "text/x-python",
   "name": "python",
   "nbconvert_exporter": "python",
   "pygments_lexer": "ipython3",
   "version": "3.9.10"
  },
  "orig_nbformat": 4
 },
 "nbformat": 4,
 "nbformat_minor": 2
}
